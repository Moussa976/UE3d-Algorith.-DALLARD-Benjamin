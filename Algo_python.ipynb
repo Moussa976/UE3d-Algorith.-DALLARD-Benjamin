{
  "nbformat": 4,
  "nbformat_minor": 0,
  "metadata": {
    "colab": {
      "name": "Algo python.ipynb",
      "provenance": [],
      "collapsed_sections": []
    },
    "kernelspec": {
      "name": "python3",
      "display_name": "Python 3"
    }
  },
  "cells": [
    {
      "cell_type": "markdown",
      "metadata": {
        "id": "JX4pEXmKGANh"
      },
      "source": [
        "1. Boucle pour récupérer la valeur minimale d'une liste"
      ]
    },
    {
      "cell_type": "code",
      "metadata": {
        "id": "9GgORSuVGBgb",
        "outputId": "5994db26-f9ae-4376-91b0-cc52438ae60f",
        "colab": {
          "base_uri": "https://localhost:8080/",
          "height": 34
        }
      },
      "source": [
        "liste = [6,5,3,-2,4,98, -5,9,7]\n",
        "Minliste= liste[0]\n",
        "for valMin in liste:\n",
        "    if valMin < Minliste : \n",
        "        Minliste = valMin\n",
        "\n",
        "print(Minliste)"
      ],
      "execution_count": null,
      "outputs": [
        {
          "output_type": "stream",
          "text": [
            "-5\n"
          ],
          "name": "stdout"
        }
      ]
    },
    {
      "cell_type": "markdown",
      "metadata": {
        "id": "LMtYgzYgMF8x"
      },
      "source": [
        "Test boucle for"
      ]
    },
    {
      "cell_type": "code",
      "metadata": {
        "id": "Hm0-PWCyMH_D"
      },
      "source": [
        "for i in range(20):\n",
        "  for a in range(20):\n",
        "    A = i + a"
      ],
      "execution_count": null,
      "outputs": []
    },
    {
      "cell_type": "markdown",
      "metadata": {
        "id": "jbS3GV1VM9qJ"
      },
      "source": [
        "#1)\tSimple échange A=>B et B=>A\n",
        "```\n",
        "A = 5; B=3;\n",
        "C = A;\n",
        "A = B;\n",
        "B = C;\n",
        "#affiche A et B\n",
        "```\n",
        "#2)\tDemandez un nombre à un utilisateur et afficher le carré\n",
        "```\n",
        "Saisir n;\n",
        "A = n**2;\n",
        "# affiche A;\n",
        "```\n",
        "#3)\tDemandez un nombre à un utilisateur et afficher s’il est positif ou négatif.\n",
        "```\n",
        "Saisir n;\n",
        "si n > 0 alors\n",
        "  #affiche \"positif\"\n",
        "sinon \n",
        "  #affiche \"négatif\"\n",
        "```\n",
        "#4)\tDemandez à un utilisateur deux nombres, et indiquez si le produit est négatif ou positif (zéro est positif) SANS FAIRE LA MULTIPLICATION\n",
        "```\n",
        "Saisir n1; n2;\n",
        "si n1 >= 0 et n2 >= 0\n",
        "  #affiche \"positif\"\n",
        "sinon \n",
        "  # affiche \"négatif\"\n",
        "```\n",
        "#5)\tEcrivez un algo qui à partir d’un nombre de départ, va afficher les dix suivants\n",
        "```\n",
        "Saisir n;\n",
        "B = n+10;\n",
        "for i in range(n,B)\n",
        "  #affiche i\n",
        "```\n",
        "#6)\tA partir d’un nombre (positif) donné la somme de tous les entiers jusqu’à ce nombre \n",
        "```\n",
        "Saisir n;\n",
        "LasommeDu_n = 0;\n",
        "for i in range(1,n)\n",
        "  LasommeDu_n = LasommeDu_n + i;\n",
        "fin for\n",
        "#affiche LasommeDu_n\n",
        "---\n",
        "\n",
        "\n"
      ]
    },
    {
      "cell_type": "code",
      "metadata": {
        "id": "m2xyLh1TNMT9",
        "outputId": "95fd0715-d5ef-438c-9c57-3c3ad75dfa75",
        "colab": {
          "base_uri": "https://localhost:8080/",
          "height": 129
        }
      },
      "source": [
        "A = int(input())\n",
        "LasommeDu_n = 0;\n",
        "for i in range(1,A+1):\n",
        "  LasommeDu_n = LasommeDu_n + i;\n",
        "\n",
        "print(\"SommeLasommeDu_n)"
      ],
      "execution_count": null,
      "outputs": [
        {
          "output_type": "error",
          "ename": "SyntaxError",
          "evalue": "ignored",
          "traceback": [
            "\u001b[0;36m  File \u001b[0;32m\"<ipython-input-1-cd5f2061d82e>\"\u001b[0;36m, line \u001b[0;32m6\u001b[0m\n\u001b[0;31m    print(\"SommeLasommeDu_n)\u001b[0m\n\u001b[0m                            ^\u001b[0m\n\u001b[0;31mSyntaxError\u001b[0m\u001b[0;31m:\u001b[0m EOL while scanning string literal\n"
          ]
        }
      ]
    },
    {
      "cell_type": "code",
      "metadata": {
        "id": "oKuvaHjgmJlH",
        "outputId": "ff317333-feca-4b79-e96b-b061cc31bd1a",
        "colab": {
          "base_uri": "https://localhost:8080/",
          "height": 51
        }
      },
      "source": [
        "a=2\n",
        "b=6\n",
        "c=a+b\n",
        "print(c)\n",
        "c**2"
      ],
      "execution_count": null,
      "outputs": [
        {
          "output_type": "stream",
          "text": [
            "8\n"
          ],
          "name": "stdout"
        },
        {
          "output_type": "execute_result",
          "data": {
            "text/plain": [
              "64"
            ]
          },
          "metadata": {
            "tags": []
          },
          "execution_count": 5
        }
      ]
    },
    {
      "cell_type": "markdown",
      "metadata": {
        "id": "N-JNl-CWxPvk"
      },
      "source": [
        "#2.1"
      ]
    },
    {
      "cell_type": "markdown",
      "metadata": {
        "id": "VEVPPGNmxM2T"
      },
      "source": [
        "#2.2"
      ]
    },
    {
      "cell_type": "markdown",
      "metadata": {
        "id": "svw2llR4xKzf"
      },
      "source": [
        "# 2.3"
      ]
    },
    {
      "cell_type": "code",
      "metadata": {
        "id": "wvyB0sSPxp4H"
      },
      "source": [
        "from random import randint\n",
        "N = randint(1,10)\n",
        "A = [randint(1,10 for _ in range(N)]\n",
        "B = [randint(1,10 for _ in range(N)]\n",
        "i = 0\n",
        "j = 0\n",
        "while i<N : \n",
        "  for e in B :\n",
        "    j = j + (A[i]*e)\n",
        "  i += j\n",
        "\n",
        "print(A)\n",
        "print(B)"
      ],
      "execution_count": null,
      "outputs": []
    },
    {
      "cell_type": "markdown",
      "metadata": {
        "id": "8iCaady8wL3D"
      },
      "source": [
        "# 2.4"
      ]
    },
    {
      "cell_type": "code",
      "metadata": {
        "id": "C_jRy5TCwKnp",
        "outputId": "830f37a9-f12d-446b-fec0-5f9ea4c93fad",
        "colab": {
          "base_uri": "https://localhost:8080/",
          "height": 102
        }
      },
      "source": [
        "tailleListe = int(input('taille de la liste : '))\n",
        "liste = [0]*tailleListe\n",
        "for i in range(tailleListe):\n",
        "  liste[i] = int(input('valeur : '))\n",
        "print(liste)\n",
        "\n",
        "max = liste[0]\n",
        "for i in liste:\n",
        "  if i > max :\n",
        "    max = i\n",
        "print(\"La valeur maximale est \",max)"
      ],
      "execution_count": null,
      "outputs": [
        {
          "output_type": "stream",
          "text": [
            "taille de la liste : 2\n",
            "valeur : 95\n",
            "valeur : 23\n",
            "[95, 23]\n",
            "La valeur maximale est  95\n"
          ],
          "name": "stdout"
        }
      ]
    },
    {
      "cell_type": "markdown",
      "metadata": {
        "id": "grMdihoSKywf"
      },
      "source": [
        "#3.2 Petite equation\n",
        "On considère l'équation x²-2y² = 1, d'inconnues x; y 2 ∈ N* (les entiers). <br>Ecrire un algorithme permettant de déterminer toutes les solutions de cette équation pour lesquelles y <= 100"
      ]
    },
    {
      "cell_type": "code",
      "metadata": {
        "id": "r4l_3rqEQfNx",
        "outputId": "076c157d-f1dc-43be-fa49-593f2c9debe2",
        "colab": {
          "base_uri": "https://localhost:8080/",
          "height": 68
        }
      },
      "source": [
        "x = 1\n",
        "s = 100\n",
        "y = 1\n",
        "for x in range(1,s):\n",
        "  for y in range (1,s) : \n",
        "    equation = x**2 - 2*y**2\n",
        "    if (equation == 1):\n",
        "      print(\"y = \",y,\"et x = \",x)\n",
        "\n",
        "#while x < s :\n",
        "#  y = 1\n",
        "#  while y < 100:\n",
        "#    equation = x**2 - 2*y**2\n",
        "#    if (equation == 1):\n",
        "#      print(\"y = \",y,\"et x = \",x)\n",
        "#    y = y + 1\n",
        "#  x = x + 1\n"
      ],
      "execution_count": null,
      "outputs": [
        {
          "output_type": "stream",
          "text": [
            "y =  2 et x =  3\n",
            "y =  12 et x =  17\n",
            "y =  70 et x =  99\n"
          ],
          "name": "stdout"
        }
      ]
    },
    {
      "cell_type": "markdown",
      "metadata": {
        "id": "4YPxVu3-1Fyi"
      },
      "source": [
        "#3.3 Le classico classique : polynome 2\n",
        "Saisir 3 entiers a; b; c et déterminer dans R les racines de l'équation\n",
        "```\n",
        "Variabes a , b, c, x0, x1, x2, delta\n",
        "Saisir a, b, c\n",
        "delta <- b²-4*a*c\n",
        "si delta > 0 alors\n",
        "  x1 <- (-b-√(delta))/2*a\n",
        "  x2 <- (-b+√(delta))/2*a\n",
        "  afficher \"x1 = \".x1.\" et x2 = \".x2\n",
        "sinon \n",
        "  si delta = 0 alors\n",
        "    x0 <- (-b)/2*a\n",
        "    afficher \"x0 = \".x0\n",
        "  sinon \n",
        "    afficher \"pas de racine\"\n",
        "  fin si\n",
        "fin si\n",
        "```\n"
      ]
    },
    {
      "cell_type": "code",
      "metadata": {
        "id": "ikDF0M1-4kB9",
        "outputId": "e923b6ff-eed4-4c61-f857-d3fa4fa4012b",
        "colab": {
          "base_uri": "https://localhost:8080/",
          "height": 85
        }
      },
      "source": [
        "from math import * # pour importer le langage mathématique\n",
        "a = int(input(\"a = \"))\n",
        "b = int(input(\"b = \"))\n",
        "c = int(input(\"c = \"))\n",
        "delta = (b**2)-4*a*c\n",
        "#print(\"delta = \",delta)\n",
        "#print(\"----------------------------\")\n",
        "if delta > 0 :\n",
        "  x1 = (-(b)-sqrt(delta))/2*a\n",
        "  x2 = (-(b)+sqrt(delta))/2*a\n",
        "  print(\"x1 = \",x1,\" et x2 = \",x2)\n",
        "else:\n",
        "  if delta == 0 :\n",
        "    x0 = (-(b))/(2*a) \n",
        "    print(\"x0 = \",x0)\n",
        "  else:\n",
        "    print(\"pas de racine\")\n",
        "\n"
      ],
      "execution_count": null,
      "outputs": [
        {
          "output_type": "stream",
          "text": [
            "a = -3\n",
            "b = -4\n",
            "c = 1\n",
            "x1 =  1.9372539331937721  et x2 =  -13.937253933193773\n"
          ],
          "name": "stdout"
        }
      ]
    },
    {
      "cell_type": "markdown",
      "metadata": {
        "id": "AC9qKLG-nn_n"
      },
      "source": [
        "#3.4 Le retour : polynome 2\n",
        "Saisir 3 entiers a; b; c et déterminer dans R les racines de l'équation\n",
        "```\n",
        "Variabes a , b, c, x0, x1, x2, delta\n",
        "Saisir a, b, c\n",
        "delta <- b²-4*a*c\n",
        "si delta > 0 alors\n",
        "  x1 <- (-b-√(delta))/2*a\n",
        "  x2 <- (-b+√(delta))/2*a\n",
        "  afficher \"x1 = \".x1.\" et x2 = \".x2\n",
        "sinon \n",
        "  si delta = 0 alors\n",
        "    x0 <- (-b)/2*a\n",
        "    afficher \"x0 = \".x0\n",
        "  sinon \n",
        "    x1 <- (-b-i*√(delta))/2*a\n",
        "    x2 <- (-b+i*√(delta))/2*a\n",
        "    afficher \"x1 = \".x1.\" et x2 = \".x2\n",
        "  fin si\n",
        "fin si\n",
        "```\n"
      ]
    },
    {
      "cell_type": "code",
      "metadata": {
        "id": "CcROXn0Jsuqi"
      },
      "source": [
        "from math import * # pour importer le langage mathématique\n",
        "import cmath\n",
        "a = int(input(\"a = \"))\n",
        "b = int(input(\"b = \"))\n",
        "c = int(input(\"c = \"))\n",
        "delta = (b**2)-4*a*c\n",
        "racineDelta = cmath.sqrt(delta)\n",
        "#print(\"delta = \",delta)\n",
        "#print(\"----------------------------\")\n",
        "if delta > 0 :\n",
        "  x1 = (-(b)-racineDelta)/2*a\n",
        "  x2 = (-(b)+racineDelta)/2*a\n",
        "  print(\"x1 = \",x1,\" et x2 = \",x2)\n",
        "else:\n",
        "  if delta == 0 :\n",
        "    x0 = (-(b))/(2*a) \n",
        "    print(\"x0 = \",x0)\n",
        "  else:\n",
        "    x1 = (-(b)-racineDelta)/2*a\n",
        "    x2 = (-(b)+racineDelta)/2*a\n",
        "    print(\"x1 = \",x1,\"i et x2 = \",x2,\"i\")\n",
        "\n"
      ],
      "execution_count": null,
      "outputs": []
    },
    {
      "cell_type": "markdown",
      "metadata": {
        "id": "Cq2cBq7JnrCR"
      },
      "source": [
        " # 3.5 Factorielle\n",
        "Ecrire un algorithme qui demande un nombre de départ, et qui calcule sa\n",
        "factorielle. On rappel qu'on calcul factorielle n tel que : n! = 1 * 2 * 3 * ... * (n * 1) * n.\n",
        " ```\n",
        "Variables nb_depart, i, f \n",
        "saisir nb_depart\n",
        "f <- 1\n",
        "pour i ← 1 à nb_depart+1\n",
        "  f <- f * i\n",
        "fin pour\n",
        "afficher f\n",
        "```"
      ]
    },
    {
      "cell_type": "code",
      "metadata": {
        "id": "3Am9jvxNnu3I"
      },
      "source": [
        "nb_depart = int(input(\"Nombre de départ : \"))\n",
        "f = 1\n",
        "i = 1\n",
        "for i in range(1,nb_depart+1):\n",
        "  f = f*i\n",
        "print(\"La factorielle est : \", f)"
      ],
      "execution_count": null,
      "outputs": []
    },
    {
      "cell_type": "markdown",
      "metadata": {
        "id": "P5txKUAc5BIm"
      },
      "source": [
        "# Problème : Coefficients binomiaux\n",
        "![exo_binomial.PNG](data:image/png;base64,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)"
      ]
    },
    {
      "cell_type": "code",
      "metadata": {
        "id": "G2QUoxWp5tlv",
        "outputId": "8db9f566-fb31-49d2-e13a-2fd355f71899",
        "colab": {
          "base_uri": "https://localhost:8080/",
          "height": 34
        }
      },
      "source": [
        "def coefficientBinomial(n,k):\n",
        "    c = 1\n",
        "    i = 0\n",
        "    for i in range(1, k+1):\n",
        "        c *= int((n+1-i))/int(i)\n",
        "    return c\n",
        "\n",
        "coefficientBinomial(10,5 )"
      ],
      "execution_count": null,
      "outputs": [
        {
          "output_type": "execute_result",
          "data": {
            "text/plain": [
              "252.0"
            ]
          },
          "metadata": {
            "tags": []
          },
          "execution_count": 76
        }
      ]
    },
    {
      "cell_type": "markdown",
      "metadata": {
        "id": "7dMhYgK6Bofi"
      },
      "source": [
        "# Problème : Saisie de matrice\n",
        "![image.png](data:image/png;base64,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)"
      ]
    },
    {
      "cell_type": "code",
      "metadata": {
        "id": "cpxDu9hUB9Ld"
      },
      "source": [
        "def matrice(l,c): #ex: (2,6) => 2x6\n",
        "  tab = []\n",
        "  i = 1\n",
        "  for i in range(1,c):\n",
        "    j = 1\n",
        "    for j in range(1,l):\n",
        "      print(i,j)\n",
        "matrice(6,6)"
      ],
      "execution_count": null,
      "outputs": []
    },
    {
      "cell_type": "markdown",
      "metadata": {
        "id": "fZ-s8G3_Nm21"
      },
      "source": [
        "#Problème : Multiplication matricielle\n"
      ]
    },
    {
      "cell_type": "code",
      "metadata": {
        "id": "kxqHyxCJTsYn"
      },
      "source": [
        "#multiplication matricielle \n",
        "def produitMatriciel(A, B):\n",
        "    n = len(A)\n",
        "    p = len(A[0])\n",
        "    q = len(B[0])\n",
        "    return list([sum([A[i][k]*B[k][j] for k in range(p)]) for j in range(q)] for i in range(n))\n",
        "\n",
        "\n",
        "A = [[1,2], [3,4]]\n",
        "B = [[1,2], [3,4]]\n",
        "print (produitMatriciel(A,B))\n",
        "\n",
        "#avec numpy\n",
        "import numpy as np \n",
        "\n",
        "np.dot(A,B)"
      ],
      "execution_count": null,
      "outputs": []
    }
  ]
}