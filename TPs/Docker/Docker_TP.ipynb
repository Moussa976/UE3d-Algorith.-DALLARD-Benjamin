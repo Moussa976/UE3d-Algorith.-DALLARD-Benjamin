{
  "nbformat": 4,
  "nbformat_minor": 0,
  "metadata": {
    "colab": {
      "name": "Docker.ipynb",
      "provenance": [],
      "collapsed_sections": []
    },
    "kernelspec": {
      "name": "python3",
      "display_name": "Python 3"
    }
  },
  "cells": [
    {
      "cell_type": "markdown",
      "metadata": {
        "id": "P95j0CFy4_6S"
      },
      "source": [
        "## TP Docker & Flask \n",
        "\n",
        "\n",
        "**Quickstart Docker** \n",
        "\n",
        "* comprendre la différence entre images et containers et à quoi sert un `Dockerfile` \n",
        "   * Les images peuvent exister sans conteneurs, alors qu'un conteneur doit exécuter une image pour exister. Par conséquent, les conteneurs dépendent des images et les utilisent pour créer un environnement d'exécution et exécuter une application. Les deux concepts existent en tant que composants essentiels (ou plutôt phases) dans le processus d'exécution d'un conteneur Docker.\n",
        "* installer docker sur votre machine (Ubuntu de préférence, si pas de machine ubuntu vous pouvez faire un double boot ou bien installer une VM en profitant de l'accès gratuit d'un éditeur cloud GCP, Azur, AWS...) \n",
        "    * J'ai installé VM puis installation de OS Lunix Ubuntu\n",
        "* lancer votre premier container ubuntu, l'équivalent du *hello-world* de docker  \n",
        "    * `docker run hello-world`\n",
        "* regarder si votre container est bien lancer \n",
        "    * `docker ps --all`\n",
        "* faire un résumé type `cheat sheet` des principales commandes dockers relatives aux images et containers\n",
        "\t* expliquer les commandes docker `build`, `run` et `exec`\n",
        "      * `build` La commande docker build crée des images Docker à partir d'un Dockerfile et d'un «contexte».\n",
        "      * `run` La commande docker run crée d'abord une couche de conteneur inscriptible sur l'image spécifiée, puis la démarre à l'aide de la commande spécifiée.\n",
        "      * `exec` La commande docker exec exécute une nouvelle commande dans un conteneur en cours d'exécution.\n",
        "\n",
        "\t* expliquer ce qu'est un port dans un container\n",
        "      * Un port dans un container est la sortie que le conteneur écoute au moment de l'exécution.\n",
        "* vérifier en vous connectant à votre container qu'il est bien `up` et qu'il s'agit bien \n",
        "\t* `docker container ls -a`\n",
        "* **(bonus)** lancer un petit container applicatif en python avec docker \n",
        "\t* `docker run -p 1008:80 hello-world .`\n",
        "\t* `docker build -t hello-world`\n",
        "\n",
        "**Docker et Python**\n",
        "\n",
        "* écrire un Dockerfile contenant : \n",
        "\t* Une image ubuntu ou python \n",
        "\t* installer python3, pip3 et vim \n",
        "\t* une installation automatique du fichier `requirements.txt` que vous écrirez à la racine de votre application. Renseignez vous sur ce fichier `requirements.txt`, que fait il, pourquoi est il utile? \n",
        "\t\t* Il est utilise pour que l'application fonctionne, il porte donc une liste de dépendance à installer. \n",
        "\t* un repertoire app (dans lequel se trouvera votre application flask) \n",
        "\t* une exposition du port de votre \n",
        "\t\t\tFROM python:3.8-slim\n",
        "\t\t\tWORKDIR /app\n",
        "\t\t\tCOPY . /app\n",
        "\t\t\tRUN pip install -r requirements.txt\n",
        "\t\t\tEXPOSE 600\n",
        "\t\t\tENV NOM Moussa\n",
        "\t\t\tCMD [\"python\", \"app.py\"]\n",
        "\t* pour finir le container devra lancer votre application flask sur le port de votre choix précédemment exposé.  \n",
        "\t\t\tdocker run -p 600:600 monimage \n",
        "\t* **(bonus)** déployer votre application sur le cloud gratuit [heroku](https://www.heroku.com)\n"
      ]
    },
    {
      "cell_type": "markdown",
      "metadata": {
        "id": "dev8mSpfO_ZU"
      },
      "source": [
        "\n",
        "\n",
        "```\n",
        "1/ docker build -t limage . \n",
        "2/ docker run -p 600:600 limage #pour lance l'app\n",
        "```\n",
        "\n"
      ]
    }
  ]
}